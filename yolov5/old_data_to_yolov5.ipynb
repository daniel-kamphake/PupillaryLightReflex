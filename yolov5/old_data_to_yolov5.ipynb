{
 "cells": [
  {
   "cell_type": "code",
   "execution_count": 1,
   "id": "51082838",
   "metadata": {},
   "outputs": [],
   "source": [
    "# https://github.com/ultralytics/yolov5/wiki/Train-Custom-Data\n",
    "# A small script that turns the label data into the format which yolov5 requires. \n",
    "\n",
    "import pandas as pd\n",
    "import os\n",
    "\n",
    "PATHS = [\"eye/\", \"iris/\", \"pupil/\"]\n"
   ]
  },
  {
   "cell_type": "code",
   "execution_count": 2,
   "id": "edf3cd8e",
   "metadata": {},
   "outputs": [],
   "source": [
    "def read_data(dataset=\"train\"):\n",
    "    \n",
    "    data = pd.read_csv(PATH+dataset+\"_label.csv\")\n",
    "    \n",
    "    data[\"x_center\"] = ((data.xmin+data.xmax)/2) / data.width \n",
    "    data[\"x_width\"]  = (data.xmax-data.xmin) / data.width\n",
    "    data[\"y_center\"] = ((data.ymin+data.ymax)/2) / data.height\n",
    "    data[\"y_height\"] = (data.ymax-data.ymin) / data.height\n",
    "    data.head()\n",
    "    \n",
    "    return data"
   ]
  },
  {
   "cell_type": "code",
   "execution_count": 3,
   "id": "1345d87d",
   "metadata": {},
   "outputs": [],
   "source": [
    "#label_map = {\"eye\"  : 0, \"iris\" : 1, \"pupil\": 2}\n",
    "\n",
    "\n",
    "def create_output(row):\n",
    "    \n",
    "    line = f\"{label_map[row['class']]} {row['x_center']} {row['y_center']} {row['x_width']} {row['y_height']}\"\n",
    "    return line\n",
    "\n",
    "def data_loop(df, dataset=\"train\"):\n",
    "    filename = df.filename[0]\n",
    "    output = \"\"\n",
    "    \n",
    "    for index, row in df.iterrows():\n",
    "        if filename == row['filename']:\n",
    "            if index > 0:  \n",
    "                output += (\"\\n\")\n",
    "            output += create_output(row)\n",
    "\n",
    "        elif index > 0 and filename != row['filename']:\n",
    "\n",
    "            with open(PATH+\"labels/\"+dataset+\"/\" + filename[:-4] + \".txt\", \"w\") as out:\n",
    "                out.write(output)\n",
    "            filename = row['filename']\n",
    "            output = create_output(row)\n"
   ]
  },
  {
   "cell_type": "code",
   "execution_count": 28,
   "id": "49edb7e9",
   "metadata": {},
   "outputs": [
    {
     "name": "stdout",
     "output_type": "stream",
     "text": [
      "eye/ done.\n",
      "iris/ done.\n",
      "pupil/ done.\n"
     ]
    }
   ],
   "source": [
    "def prepare_for_dataset(data=0):  # 0 eye, 1 iris, 2 pupil\n",
    "    \n",
    "    path = PATHS[data]\n",
    "    \n",
    "    df = read_data(\"train\")\n",
    "    data_loop(df, \"train\")\n",
    "\n",
    "    df = read_data(\"test\")\n",
    "    data_loop(df, \"val\")\n",
    "\n",
    "    print(f\"{path} done.\")\n",
    "\n",
    "    \n",
    "label_map = {\"eye\"  : 0, \"iris\" : 0, \"pupil\": 0}\n",
    "prepare_for_dataset(0)\n",
    "prepare_for_dataset(1)\n",
    "prepare_for_dataset(2)"
   ]
  },
  {
   "cell_type": "code",
   "execution_count": 31,
   "id": "a2c2ed27",
   "metadata": {},
   "outputs": [
    {
     "name": "stdout",
     "output_type": "stream",
     "text": [
      "pupil/ done.\n",
      "pupil/ done.\n"
     ]
    }
   ],
   "source": [
    "def merge_iris_and_pupil():       \n",
    "    \n",
    "    for file in os.listdir(\"iris/labels/train/\"):\n",
    "        if file in os.listdir(\"pupil/labels/train/\"):\n",
    "            with open(\"iris_pupil/labels/train/\"+file, \"w\") as out:\n",
    "                with open(\"iris/labels/train/\"+file, \"r\") as iris:                \n",
    "                    with open(\"pupil/labels/train/\"+file, \"r\") as pupil:\n",
    "                        out.write(iris.read()+\"\\n\"+pupil.read())\n",
    "                    \n",
    "    '''\n",
    "    The iris dataset is a subset of the pupil dataset. \n",
    "    To merge the validation data, we need to match the \n",
    "    iris validation data to the pupil train data. \n",
    "    We have no collision between the validation and train \n",
    "    dataset because in the step before we have take the iris train data. \n",
    "    '''               \n",
    "    \n",
    "    for file in os.listdir(\"iris/labels/val/\"):\n",
    "        if file in os.listdir(\"pupil/labels/train/\"):\n",
    "            with open(\"iris_pupil/labels/val/\"+file, \"w\") as out:\n",
    "                with open(\"iris/labels/val/\"+file, \"r\") as iris:                \n",
    "                    with open(\"pupil/labels/train/\"+file, \"r\") as pupil:\n",
    "                        out.write(iris.read()+\"\\n\"+pupil.read())\n",
    "                    \n",
    "\n",
    "label_map = {\"eye\"  : 0, \"iris\" : 0, \"pupil\": 1}\n",
    "prepare_for_dataset(2)                 \n",
    "merge_iris_and_pupil()\n",
    "\n",
    "#reset pupil labels TODO: Delete\n",
    "label_map = {\"eye\"  : 0, \"iris\" : 0, \"pupil\": 0}\n",
    "prepare_for_dataset(2)                 "
   ]
  }
 ],
 "metadata": {
  "kernelspec": {
   "display_name": "Python 3",
   "language": "python",
   "name": "python3"
  },
  "language_info": {
   "codemirror_mode": {
    "name": "ipython",
    "version": 3
   },
   "file_extension": ".py",
   "mimetype": "text/x-python",
   "name": "python",
   "nbconvert_exporter": "python",
   "pygments_lexer": "ipython3",
   "version": "3.7.11"
  }
 },
 "nbformat": 4,
 "nbformat_minor": 5
}
